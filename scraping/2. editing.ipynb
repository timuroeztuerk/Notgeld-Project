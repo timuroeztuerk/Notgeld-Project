{
 "cells": [
  {
   "cell_type": "code",
   "execution_count": null,
   "metadata": {},
   "outputs": [],
   "source": [
    "import pandas as pd\n",
    "import numpy as np\n",
    "import re"
   ]
  },
  {
   "cell_type": "code",
   "execution_count": null,
   "metadata": {},
   "outputs": [],
   "source": [
    "df = pd.read_csv(\"product_data.csv\")\n",
    "def extract_info(row):\n",
    "    base = eval(row['base_info'])\n",
    "    table = eval(row['table_contents'])\n",
    "    return pd.Series({\n",
    "        'Katalog': next((x for l, x in base if l=='Katalog-Nr.:'), ''),\n",
    "        'Erhaltung': next((x for l, x in table if l=='Erhaltung:'), ''),\n",
    "        'Provinz': next((x for l, x in table if l=='Provinz:'), ''),\n",
    "        'Wert': next((x for l, x in table if l=='Wert:'), ''),\n",
    "        'Periode': next((x for l, x in table if l=='Periode:'), ''),\n",
    "        'Ort': next((x for l, x in table if l=='Ort:'), '')\n",
    "    })\n",
    "\n",
    "df = df.join(df.apply(extract_info, axis=1)).drop(columns=['base_info', 'table_contents'])\n",
    "df = df[['Ort', 'price', 'Provinz', 'Wert', 'Periode', 'Erhaltung', 'Katalog', 'url', 'title']]\n",
    "\n",
    "df['date'] = df['title'].str.extract(r'(\\d{2}\\.\\d{2}\\.\\d{2})', expand=False)\n",
    "df['date'] = df['date'].fillna(np.where(df['title'].str.contains('oD'), 'oD', 'NoDate'))\n",
    "df['title'] = df.apply(lambda r: r['title'].replace(r['date'], ''), axis=1)\n",
    "\n",
    "df.to_csv(\"NotgeldData.csv\", index=False)"
   ]
  },
  {
   "cell_type": "code",
   "execution_count": null,
   "metadata": {},
   "outputs": [],
   "source": [
    "df = pd.read_csv('NotgeldData.csv')\n",
    "df.columns = df.columns.str.title()\n",
    "df.drop(['Katalog', 'Url', 'Date'], axis=1, inplace=True)\n",
    "\n",
    "# Clean Title based on Ort\n",
    "first, second = df['Title'].str.split(',', n=1, expand=True).fillna('')\n",
    "df.loc[first.isin(df['Ort']), 'Title'] = second\n",
    "\n",
    "# Determine Issuer from Title\n",
    "def get_issuer(title):\n",
    "    part = title.split(', ')[0]\n",
    "    return part if not any(char.isdigit() for char in part) else None\n",
    "\n",
    "df['Issuer'] = df['Title'].apply(get_issuer).str.lstrip().fillna('NoIssuerInfo')\n",
    "df['Title'] = df.apply(lambda r: r['Title'].replace(r['Issuer'], '') if r['Issuer'] in r['Title'] else r['Title'], axis=1)\n",
    "df['Title'] = df.apply(lambda r: r['Title'].replace(str(r['Wert']), ''), axis=1)\n",
    "\n",
    "# Extract Date from Title\n",
    "pattern = r'\\b(\\d{1,2}\\.\\d{1,2}\\.\\d{2})\\b'\n",
    "df['Date'] = df['Title'].str.extract(pattern, expand=False)\n",
    "df['Date'] = df.apply(lambda r: \"oD\" if pd.isnull(r['Date']) and \"oD\" in r['Title'] else r['Date'], axis=1).fillna(\"NoDate\")\n",
    "df['Title'] = df.apply(lambda r: r['Title'].replace(r['Date'], '') if r['Date'] in r['Title'] else r['Title'], axis=1)\n",
    "\n",
    "df = df[['Ort', 'Provinz', 'Wert', 'Date', 'Periode', 'Price', 'Erhaltung', 'Issuer', 'Title']]\n",
    "df.to_excel('Notgeld_V2.xlsx', index=False)"
   ]
  },
  {
   "cell_type": "code",
   "execution_count": null,
   "metadata": {},
   "outputs": [],
   "source": [
    "# Delete the spaces in Wert column.\n",
    "df['Wert'] = df['Wert'].str.replace(' ', '')\n",
    "# Replace the Mio. with 000000. Mrd with 000000000. Bio with 000000000000. T with 000000000000000.\n",
    "df['Wert'] = df['Wert'].str.replace('Mio', '000000', regex=False)\n",
    "df['Wert'] = df['Wert'].str.replace('Mrd', '000000000', regex=False)\n",
    "df['Wert'] = df['Wert'].str.replace('Bio', '000000000000', regex=False)\n",
    "df['Wert'] = df['Wert'].str.replace('T', '000000000000000', regex=False)\n",
    "# Replace Mk with 000. and Pf with 0.\n",
    "df['Wert'] = df['Wert'].str.replace('Mk', '000', regex=False)\n",
    "df['Wert'] = df['Wert'].str.replace('Pf', '0', regex=False)\n",
    "# How many columns still have a character?\n",
    "df['Wert'].str.contains('[a-zA-Z]').sum()\n",
    "# Delete the rows with a character.\n",
    "df = df[~df['Wert'].str.contains('[a-zA-Z]')]\n",
    "# Save the data.\n",
    "df.to_csv('Analysis.csv', index=False)"
   ]
  }
 ],
 "metadata": {
  "kernelspec": {
   "display_name": "Python 3",
   "language": "python",
   "name": "python3"
  },
  "language_info": {
   "codemirror_mode": {
    "name": "ipython",
    "version": 3
   },
   "file_extension": ".py",
   "mimetype": "text/x-python",
   "name": "python",
   "nbconvert_exporter": "python",
   "pygments_lexer": "ipython3",
   "version": "3.10.4"
  },
  "orig_nbformat": 4
 },
 "nbformat": 4,
 "nbformat_minor": 2
}
