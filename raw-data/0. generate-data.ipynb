{
 "cells": [
  {
   "cell_type": "code",
   "execution_count": null,
   "metadata": {},
   "outputs": [],
   "source": [
    "import pandas as pd\n",
    "import geopandas as gpd\n",
    "\n",
    "def fix_borders(df):\n",
    "    conversion = pd.read_excel(\"id-changes/bw-id-changes.xlsx\")\n",
    "    conversion_dict = dict(zip(conversion['id1'], conversion['id2']))\n",
    "    df['ID'] = df['ID'].map(conversion_dict).fillna(df['ID'])\n",
    "    return df.groupby('ID', as_index=False).sum()\n",
    "\n",
    "# Load data and keep relevant columns\n",
    "df = pd.read_stata('braun-franke-2022.dta')\n",
    "\n",
    "\n",
    "df = df[['ID', 'name', 'year',\n",
    "    'ind_popshare_occ', 'agr_popshare_occ', 'trade_popshare_occ',\n",
    "    'tax_income_base_priv_pc', 'd_steamengine', 'pop_log']]\n",
    "df = df.dropna(subset=['ID'], inplace=True)\n",
    "\n",
    "df['d_steamengine'] = df['d_steamengine'].fillna(0).astype(int)\n",
    "df['ID'] = df['ID'].astype(int)\n",
    "\n",
    "# Set d_steamengine to 1 in 1905 if it was 1 in 1867\n",
    "for i in df['ID'].unique():\n",
    "    if df.loc[(df['ID'] == i) & (df['year'] == 1867), 'd_steamengine'].iloc[0] == 1:\n",
    "        df.loc[(df['ID'] == i) & (df['year'] == 1905), 'd_steamengine'] = 1"
   ]
  },
  {
   "cell_type": "code",
   "execution_count": 18,
   "metadata": {},
   "outputs": [],
   "source": [
    "# Add the locations and their IDs to a new dataframe. We get this information from the maps.\n",
    "locations = pd.DataFrame(columns=['ID', 'Name', 'reichsbank'])\n",
    "locations.loc[0] = ['10701', 'Heilbronn', '3']\n",
    "locations.loc[1] = ['41307', 'Friedrichshafen', '3']\n",
    "locations.loc[2] = ['41001', 'Ravensburg', '3']\n",
    "locations.loc[3] = ['40101', 'Biberach', '3']\n",
    "locations.loc[4] = ['21601', 'Tuttlingen', '3']\n",
    "locations.loc[5] = ['21201', 'Rottweil', '3']\n",
    "locations.loc[6] = ['21227', 'Schwenningen', '3']\n",
    "locations.loc[7] = ['30801', 'Heidenheim', '3']\n",
    "locations.loc[8] = ['40401', 'Geislingen', '3'] # Not sure, many Geislingens.\n",
    "locations.loc[9] = ['40501', 'Göppingen', '3']\n",
    "locations.loc[10] = ['10601', 'Eßlingen', '3']\n",
    "locations.loc[11] = ['30601', 'Schwäbisch Gmünd', '3']\n",
    "locations.loc[12] = ['30101', 'Aalen', '3']\n",
    "locations.loc[13] = ['41401', 'Ulm', '2']\n",
    "locations.loc[14] = ['21001', 'Reutlingen', '2']\n",
    "locations.loc[15] = ['11301', 'Stuttgart', '1']\n",
    "locations.loc[16] = ['41001', 'Weingarten', '4'] # Small location, could be counted in Ravensburg as well.\n",
    "locations.to_csv('reichsbank-locations/reichsbank-locations.csv', index=False)"
   ]
  },
  {
   "cell_type": "code",
   "execution_count": 19,
   "metadata": {},
   "outputs": [],
   "source": [
    "# Load data and compute centroids\n",
    "shp = gpd.read_file('raw-shapefile/BW-1939.shp')\n",
    "loc = pd.read_csv('reichsbank-locations/reichsbank-locations.csv')\n",
    "shp['centroid'] = shp.geometry.centroid\n",
    "\n",
    "# Merge reichsbank info by ID and name, filling missing values with 0\n",
    "shp = shp.merge(loc[['ID', 'Name', 'reichsbank']], on=['ID', 'Name'], how='left')\n",
    "shp['reichsbank'] = shp['reichsbank'].fillna(0)\n",
    "\n",
    "# For each geometry, compute minimum distance to any reichsbank centroid\n",
    "rb_centroids = shp.loc[shp['reichsbank'] != 0, 'centroid']\n",
    "shp['distance'] = shp['centroid'].apply(lambda c: rb_centroids.distance(c).min())\n",
    "\n",
    "# Keep only required columns and update reichsbank from locations by ID\n",
    "result = shp[['ID', 'reichsbank', 'distance']].drop_duplicates('ID')\n",
    "result = result.drop(columns='reichsbank').merge(loc[['ID', 'reichsbank']], on='ID', how='left')\n",
    "\n",
    "result.to_csv('reichsbank-distances.csv', index=False)"
   ]
  }
 ],
 "metadata": {
  "kernelspec": {
   "display_name": "Python 3",
   "language": "python",
   "name": "python3"
  },
  "language_info": {
   "codemirror_mode": {
    "name": "ipython",
    "version": 3
   },
   "file_extension": ".py",
   "mimetype": "text/x-python",
   "name": "python",
   "nbconvert_exporter": "python",
   "pygments_lexer": "ipython3",
   "version": "3.10.4"
  },
  "orig_nbformat": 4
 },
 "nbformat": 4,
 "nbformat_minor": 2
}
