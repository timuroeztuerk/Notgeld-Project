{
 "cells": [
  {
   "cell_type": "code",
   "execution_count": 13,
   "metadata": {},
   "outputs": [],
   "source": [
    "import pandas as pd"
   ]
  },
  {
   "cell_type": "code",
   "execution_count": 14,
   "metadata": {},
   "outputs": [],
   "source": [
    "# Read the data.\n",
    "df = pd.read_csv('Updated.csv')"
   ]
  },
  {
   "cell_type": "code",
   "execution_count": 15,
   "metadata": {},
   "outputs": [],
   "source": [
    "# Delete the spaces in Wert column.\n",
    "df['Wert'] = df['Wert'].str.replace(' ', '')\n",
    "# Replace the Mio. with 000000. Mrd with 000000000. Bio with 000000000000. T with 000000000000000.\n",
    "df['Wert'] = df['Wert'].str.replace('Mio', '000000', regex=False)\n",
    "df['Wert'] = df['Wert'].str.replace('Mrd', '000000000', regex=False)\n",
    "df['Wert'] = df['Wert'].str.replace('Bio', '000000000000', regex=False)\n",
    "df['Wert'] = df['Wert'].str.replace('T', '000000000000000', regex=False)\n",
    "# Replace Mk with 000. and Pf with 0.\n",
    "df['Wert'] = df['Wert'].str.replace('Mk', '000', regex=False)\n",
    "df['Wert'] = df['Wert'].str.replace('Pf', '0', regex=False)\n",
    "# How many columns still have a character?\n",
    "df['Wert'].str.contains('[a-zA-Z]').sum()\n",
    "# Delete the rows with a character.\n",
    "df = df[~df['Wert'].str.contains('[a-zA-Z]')]\n",
    "# Save the data.\n",
    "df.to_csv('Analysis.csv', index=False)"
   ]
  }
 ],
 "metadata": {
  "kernelspec": {
   "display_name": "Python 3",
   "language": "python",
   "name": "python3"
  },
  "language_info": {
   "codemirror_mode": {
    "name": "ipython",
    "version": 3
   },
   "file_extension": ".py",
   "mimetype": "text/x-python",
   "name": "python",
   "nbconvert_exporter": "python",
   "pygments_lexer": "ipython3",
   "version": "3.10.4"
  },
  "orig_nbformat": 4
 },
 "nbformat": 4,
 "nbformat_minor": 2
}
