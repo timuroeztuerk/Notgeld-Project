{
 "cells": [
  {
   "cell_type": "code",
   "execution_count": 2,
   "metadata": {},
   "outputs": [],
   "source": [
    "import pandas as pd\n",
    "import re"
   ]
  },
  {
   "cell_type": "code",
   "execution_count": 3,
   "metadata": {},
   "outputs": [],
   "source": [
    "# Read the data.\n",
    "df = pd.read_csv('NotgeldData.csv')\n",
    "# Capitalize the first letter of each column.\n",
    "df.columns = [col.title() for col in df.columns]\n",
    "# Drop Katalog, Url and Date.\n",
    "df.drop(['Katalog', 'Url', 'Date'], axis=1, inplace=True)"
   ]
  },
  {
   "cell_type": "code",
   "execution_count": 649,
   "metadata": {},
   "outputs": [],
   "source": [
    "# Clean the Ort.\n",
    "# Split the Title column on the comma delimiter\n",
    "df[['FirstPart', 'SecondPart']] = df['Title'].str.split(',', n=1, expand=True)\n",
    "\n",
    "# check if the FirstPart is in the Ort column\n",
    "mask = df['FirstPart'].isin(df['Ort'])\n",
    "\n",
    "# remove the FirstPart from the Title column where the mask is True\n",
    "df.loc[mask, 'Title'] = df['SecondPart']\n",
    "\n",
    "# drop the FirstPart and SecondPart columns\n",
    "df = df.drop(columns=['FirstPart', 'SecondPart'])\n",
    "# Save the updated DataFrame to a new file\n",
    "df.to_csv('Updated.csv', index=False)"
   ]
  },
  {
   "cell_type": "code",
   "execution_count": 650,
   "metadata": {},
   "outputs": [],
   "source": [
    "# Iterate through each row in the DataFrame\n",
    "for index, row in df.iterrows():\n",
    "    # Split the string using the comma delimiter\n",
    "    parts = row['Title'].split(', ')\n",
    "    # Check if the first part of the split string contains any digits\n",
    "    if any(char.isdigit() for char in parts[0]):\n",
    "        # Set issuer value to None\n",
    "        issuer = None\n",
    "    else:\n",
    "        # Set issuer value to the first part of the split string\n",
    "        issuer = parts[0]\n",
    "    # Update the issuer column with the issuer value\n",
    "    df.at[index, 'Issuer'] = issuer\n",
    "# Delete the space if the column starts with a space.\n",
    "df['Issuer'] = df['Issuer'].str.lstrip()\n",
    "# Fill Nan values with 'NoIssuerInfo'\n",
    "df['Issuer'].fillna('NoIssuerInfo', inplace=True)\n",
    "# Save the updated DataFrame to a new file\n",
    "df.to_csv('Updated.csv', index=False)"
   ]
  },
  {
   "cell_type": "code",
   "execution_count": 651,
   "metadata": {},
   "outputs": [],
   "source": [
    "# Clean the Issuer.\n",
    "# Loop through the rows of the DataFrame\n",
    "for index, row in df.iterrows():\n",
    "    # Check if the Wert value is in the Title string\n",
    "    if row['Issuer'] in row['Title']:\n",
    "        # Remove the Wert value from the Title string\n",
    "        df.at[index, 'Title'] = row['Title'].replace(row['Issuer'], '')\n",
    "# Save the updated DataFrame to a new file\n",
    "df.to_csv('Updated.csv', index=False)"
   ]
  },
  {
   "cell_type": "code",
   "execution_count": 652,
   "metadata": {},
   "outputs": [],
   "source": [
    "# Clean the Wert.\n",
    "# Loop through the rows of the DataFrame\n",
    "for index, row in df.iterrows():\n",
    "    # Check if the Wert value is in the Title string\n",
    "    if row['Wert'] in row['Title']:\n",
    "        # Remove the Wert value from the Title string\n",
    "        df.at[index, 'Title'] = row['Title'].replace(row['Wert'], '')\n",
    "\n",
    "# Save the updated DataFrame to a new file\n",
    "df.to_csv('Updated.csv', index=False)"
   ]
  },
  {
   "cell_type": "code",
   "execution_count": 653,
   "metadata": {},
   "outputs": [],
   "source": [
    "# Define a regular expression pattern to match dates in the format \"d.m.yy\" or \"dd.mm.yy\"\n",
    "pattern = r'\\b(\\d{1,2}\\.\\d{1,2}\\.\\d{2})\\b'\n",
    "\n",
    "# Iterate through each row in the DataFrame\n",
    "for index, row in df.iterrows():\n",
    "    # Search for dates in the string using the regular expression pattern\n",
    "    match = re.search(pattern, row['Title'])\n",
    "    if match:\n",
    "        # Extract the matched date string\n",
    "        date_str = match.group(1)\n",
    "        # Update the corresponding column with the raw date string\n",
    "        df.at[index, 'Date'] = date_str\n",
    "    elif 'oD' in row['Title']:\n",
    "        # Update the corresponding column with \"oD\"\n",
    "        df.at[index, 'Date'] = \"oD\"\n",
    "    else:\n",
    "        # Update the corresponding column with \"no date\"\n",
    "        df.at[index, 'Date'] = \"NoDate\"\n",
    "\n",
    "# Save the updated DataFrame to a new file\n",
    "df.to_csv('Updated.csv', index=False)"
   ]
  },
  {
   "cell_type": "code",
   "execution_count": 654,
   "metadata": {},
   "outputs": [],
   "source": [
    "# Clean the Date.\n",
    "# Loop through the rows of the DataFrame\n",
    "for index, row in df.iterrows():\n",
    "    # Check if the Wert value is in the Title string\n",
    "    if row['Date'] in row['Title']:\n",
    "        # Remove the Wert value from the Title string\n",
    "        df.at[index, 'Title'] = row['Title'].replace(row['Date'], '')\n",
    "\n",
    "# Save the updated DataFrame to a new file\n",
    "df.to_csv('Updated.csv', index=False)"
   ]
  },
  {
   "cell_type": "code",
   "execution_count": 655,
   "metadata": {},
   "outputs": [],
   "source": [
    "# Sort the data frame columns in the desired order.\n",
    "# Ort, Provinz, Wert, Periode, Erhaltung, issuer, date, title\n",
    "df = df[['Ort', 'Provinz', 'Wert', 'Date', 'Periode', 'Price',  'Erhaltung', 'Issuer',  'Title']]\n",
    "# Save the updated DataFrame to a new file\n",
    "df.to_csv('Updated.csv', index=False)"
   ]
  },
  {
   "cell_type": "code",
   "execution_count": 656,
   "metadata": {},
   "outputs": [],
   "source": [
    "# Save it as an excel file.\n",
    "df.to_excel('Notgeld_V2.xlsx', index=False)"
   ]
  }
 ],
 "metadata": {
  "kernelspec": {
   "display_name": "Python 3",
   "language": "python",
   "name": "python3"
  },
  "language_info": {
   "codemirror_mode": {
    "name": "ipython",
    "version": 3
   },
   "file_extension": ".py",
   "mimetype": "text/x-python",
   "name": "python",
   "nbconvert_exporter": "python",
   "pygments_lexer": "ipython3",
   "version": "3.10.4"
  },
  "orig_nbformat": 4
 },
 "nbformat": 4,
 "nbformat_minor": 2
}
