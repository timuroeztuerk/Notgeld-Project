{
 "cells": [
  {
   "cell_type": "code",
   "execution_count": 8,
   "metadata": {},
   "outputs": [],
   "source": [
    "import pandas as pd\n",
    "import os\n",
    "import numpy as np"
   ]
  },
  {
   "cell_type": "code",
   "execution_count": 9,
   "metadata": {},
   "outputs": [],
   "source": [
    "table_list = []\n",
    "i = 11\n",
    "for table in os.listdir('Tables/'):\n",
    "    if table.endswith('.csv'):\n",
    "        exec(\"table\" + str(i) + \"= pd.read_csv('Tables/\" + table + \"')\")\n",
    "        exec(\"table\" + str(i) + \".columns = range(table\" + str(i) + \".shape[1])\")\n",
    "        i += 1"
   ]
  },
  {
   "cell_type": "code",
   "execution_count": 10,
   "metadata": {},
   "outputs": [],
   "source": [
    "#Create a loop concatatanes all lists into one.\n",
    "for i in range(13, 51):\n",
    "    exec(\"table11 = pd.concat([table11, table\" + str(i) + \"], axis=0)\")"
   ]
  },
  {
   "cell_type": "code",
   "execution_count": 11,
   "metadata": {},
   "outputs": [],
   "source": [
    "#Rename table1 to DataFrame.\n",
    "DataFrame = table11\n",
    "#Change all apostrophes to empty strings, as well as slashes, dashes, spaces and periods. No commas or periods because of the percentages (we can think of changing this later).\n",
    "DataFrame = DataFrame.replace(\"'\", \"\", regex = True)\n",
    "DataFrame = DataFrame.replace(\"/\", \"\", regex = True)\n",
    "DataFrame = DataFrame.replace(\"-\", \"\", regex = True)\n",
    "DataFrame = DataFrame.replace(\" \", \"\", regex = True)\n",
    "#Change all exponential values to empty strings. I don't know how many there are.\n",
    "DataFrame = DataFrame.replace(\"¹\", \"\", regex = True)\n",
    "DataFrame = DataFrame.replace(\"²\", \"\", regex = True)\n",
    "DataFrame = DataFrame.replace(\"³\", \"\", regex = True)\n",
    "#Change all empty strings to NaN. This way we can fill the empty values with 0 in the next step.\n",
    "DataFrame = DataFrame.replace(\"\", np.nan)\n",
    "#Change all NaN's to zeros.\n",
    "DataFrame = DataFrame.fillna(0)\n",
    "#Drop the last column, I believe it is just a buffer.\n",
    "DataFrame = DataFrame.drop(DataFrame.columns[[-1]], axis = 1)\n",
    "#Reset the index.\n",
    "DataFrame = DataFrame.reset_index(drop = True)"
   ]
  },
  {
   "cell_type": "code",
   "execution_count": 12,
   "metadata": {},
   "outputs": [],
   "source": [
    "#Save the DataFrame as an excel file.\n",
    "DataFrame.to_excel('Automatized_Results.xlsx', index = False)"
   ]
  }
 ],
 "metadata": {
  "kernelspec": {
   "display_name": "Python 3.10.4 64-bit",
   "language": "python",
   "name": "python3"
  },
  "language_info": {
   "codemirror_mode": {
    "name": "ipython",
    "version": 3
   },
   "file_extension": ".py",
   "mimetype": "text/x-python",
   "name": "python",
   "nbconvert_exporter": "python",
   "pygments_lexer": "ipython3",
   "version": "3.10.4 (tags/v3.10.4:9d38120, Mar 23 2022, 23:13:41) [MSC v.1929 64 bit (AMD64)]"
  },
  "orig_nbformat": 4,
  "vscode": {
   "interpreter": {
    "hash": "5476554e56bec4e414584a71883d1ffe5b8e5031f5f48c49164141ce685ce57c"
   }
  }
 },
 "nbformat": 4,
 "nbformat_minor": 2
}
