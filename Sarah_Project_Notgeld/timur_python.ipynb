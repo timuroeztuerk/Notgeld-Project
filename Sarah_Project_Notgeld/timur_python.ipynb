{
 "cells": [
  {
   "cell_type": "code",
   "execution_count": 1,
   "metadata": {},
   "outputs": [],
   "source": [
    "import pandas as pd\n",
    "import numpy as np"
   ]
  },
  {
   "cell_type": "code",
   "execution_count": 2,
   "metadata": {},
   "outputs": [],
   "source": [
    "# Import the data, which is a stata file.\n",
    "df = pd.read_stata('Braun_Franke_2022_data_full_sample.dta')\n",
    "#Keep only relevant columns. These are: ID year ind_popshare_occ agr_popshare_occ trade_popshare_occ tax_income_base_priv_pc d_steamengine pop_log\n",
    "df = df[['ID', 'name' ,'year', 'ind_popshare_occ', 'agr_popshare_occ', 'trade_popshare_occ', 'tax_income_base_priv_pc', 'd_steamengine', 'pop_log']]"
   ]
  },
  {
   "cell_type": "code",
   "execution_count": 3,
   "metadata": {},
   "outputs": [],
   "source": [
    "#Import the conversion matrix.\n",
    "conversion_matrix = pd.read_csv('Raw/mmborders_python.csv')"
   ]
  },
  {
   "cell_type": "code",
   "execution_count": 4,
   "metadata": {},
   "outputs": [
    {
     "data": {
      "text/html": [
       "<div>\n",
       "<style scoped>\n",
       "    .dataframe tbody tr th:only-of-type {\n",
       "        vertical-align: middle;\n",
       "    }\n",
       "\n",
       "    .dataframe tbody tr th {\n",
       "        vertical-align: top;\n",
       "    }\n",
       "\n",
       "    .dataframe thead th {\n",
       "        text-align: right;\n",
       "    }\n",
       "</style>\n",
       "<table border=\"1\" class=\"dataframe\">\n",
       "  <thead>\n",
       "    <tr style=\"text-align: right;\">\n",
       "      <th></th>\n",
       "      <th>ID</th>\n",
       "      <th>name</th>\n",
       "      <th>year</th>\n",
       "      <th>ind_popshare_occ</th>\n",
       "      <th>agr_popshare_occ</th>\n",
       "      <th>trade_popshare_occ</th>\n",
       "      <th>tax_income_base_priv_pc</th>\n",
       "      <th>d_steamengine</th>\n",
       "      <th>pop_log</th>\n",
       "    </tr>\n",
       "  </thead>\n",
       "  <tbody>\n",
       "    <tr>\n",
       "      <th>44592</th>\n",
       "      <td>NaN</td>\n",
       "      <td></td>\n",
       "      <td>1875</td>\n",
       "      <td>NaN</td>\n",
       "      <td>NaN</td>\n",
       "      <td>NaN</td>\n",
       "      <td>NaN</td>\n",
       "      <td>NaN</td>\n",
       "      <td>NaN</td>\n",
       "    </tr>\n",
       "    <tr>\n",
       "      <th>44593</th>\n",
       "      <td>NaN</td>\n",
       "      <td></td>\n",
       "      <td>1880</td>\n",
       "      <td>NaN</td>\n",
       "      <td>NaN</td>\n",
       "      <td>NaN</td>\n",
       "      <td>NaN</td>\n",
       "      <td>NaN</td>\n",
       "      <td>NaN</td>\n",
       "    </tr>\n",
       "    <tr>\n",
       "      <th>44594</th>\n",
       "      <td>NaN</td>\n",
       "      <td></td>\n",
       "      <td>1885</td>\n",
       "      <td>NaN</td>\n",
       "      <td>NaN</td>\n",
       "      <td>NaN</td>\n",
       "      <td>NaN</td>\n",
       "      <td>NaN</td>\n",
       "      <td>NaN</td>\n",
       "    </tr>\n",
       "    <tr>\n",
       "      <th>44595</th>\n",
       "      <td>NaN</td>\n",
       "      <td></td>\n",
       "      <td>1890</td>\n",
       "      <td>NaN</td>\n",
       "      <td>NaN</td>\n",
       "      <td>NaN</td>\n",
       "      <td>NaN</td>\n",
       "      <td>NaN</td>\n",
       "      <td>NaN</td>\n",
       "    </tr>\n",
       "    <tr>\n",
       "      <th>44596</th>\n",
       "      <td>NaN</td>\n",
       "      <td></td>\n",
       "      <td>1895</td>\n",
       "      <td>NaN</td>\n",
       "      <td>NaN</td>\n",
       "      <td>NaN</td>\n",
       "      <td>NaN</td>\n",
       "      <td>NaN</td>\n",
       "      <td>NaN</td>\n",
       "    </tr>\n",
       "    <tr>\n",
       "      <th>44597</th>\n",
       "      <td>NaN</td>\n",
       "      <td></td>\n",
       "      <td>1900</td>\n",
       "      <td>NaN</td>\n",
       "      <td>NaN</td>\n",
       "      <td>NaN</td>\n",
       "      <td>NaN</td>\n",
       "      <td>NaN</td>\n",
       "      <td>NaN</td>\n",
       "    </tr>\n",
       "    <tr>\n",
       "      <th>44598</th>\n",
       "      <td>NaN</td>\n",
       "      <td></td>\n",
       "      <td>1905</td>\n",
       "      <td>NaN</td>\n",
       "      <td>NaN</td>\n",
       "      <td>NaN</td>\n",
       "      <td>NaN</td>\n",
       "      <td>NaN</td>\n",
       "      <td>NaN</td>\n",
       "    </tr>\n",
       "    <tr>\n",
       "      <th>44599</th>\n",
       "      <td>NaN</td>\n",
       "      <td></td>\n",
       "      <td>1910</td>\n",
       "      <td>NaN</td>\n",
       "      <td>NaN</td>\n",
       "      <td>NaN</td>\n",
       "      <td>NaN</td>\n",
       "      <td>NaN</td>\n",
       "      <td>NaN</td>\n",
       "    </tr>\n",
       "  </tbody>\n",
       "</table>\n",
       "</div>"
      ],
      "text/plain": [
       "       ID name  year  ind_popshare_occ  agr_popshare_occ  trade_popshare_occ  \\\n",
       "44592 NaN       1875               NaN               NaN                 NaN   \n",
       "44593 NaN       1880               NaN               NaN                 NaN   \n",
       "44594 NaN       1885               NaN               NaN                 NaN   \n",
       "44595 NaN       1890               NaN               NaN                 NaN   \n",
       "44596 NaN       1895               NaN               NaN                 NaN   \n",
       "44597 NaN       1900               NaN               NaN                 NaN   \n",
       "44598 NaN       1905               NaN               NaN                 NaN   \n",
       "44599 NaN       1910               NaN               NaN                 NaN   \n",
       "\n",
       "       tax_income_base_priv_pc  d_steamengine  pop_log  \n",
       "44592                      NaN            NaN      NaN  \n",
       "44593                      NaN            NaN      NaN  \n",
       "44594                      NaN            NaN      NaN  \n",
       "44595                      NaN            NaN      NaN  \n",
       "44596                      NaN            NaN      NaN  \n",
       "44597                      NaN            NaN      NaN  \n",
       "44598                      NaN            NaN      NaN  \n",
       "44599                      NaN            NaN      NaN  "
      ]
     },
     "execution_count": 4,
     "metadata": {},
     "output_type": "execute_result"
    }
   ],
   "source": [
    "#Show NaN ID's.\n",
    "df[df['ID'].isnull()]"
   ]
  },
  {
   "cell_type": "code",
   "execution_count": 5,
   "metadata": {},
   "outputs": [],
   "source": [
    "#Drop NaN ID's.\n",
    "df = df.dropna(subset=['ID'])"
   ]
  },
  {
   "cell_type": "code",
   "execution_count": 6,
   "metadata": {},
   "outputs": [],
   "source": [
    "#Convert NaN's in d_steamengine to 0.\n",
    "df['d_steamengine'] = df['d_steamengine'].fillna(0)\n",
    "#Convert the d_steamengine to an integer.\n",
    "df['d_steamengine'] = df['d_steamengine'].astype(int)\n",
    "#Have ID as integer.\n",
    "df['ID'] = df['ID'].astype(int)\n",
    "#Have id1 and id2 in conversion_matrix as an integer.\n",
    "conversion_matrix['id1'] = conversion_matrix['id1'].astype(int)\n",
    "conversion_matrix['id2'] = conversion_matrix['id2'].astype(int)"
   ]
  },
  {
   "cell_type": "code",
   "execution_count": 7,
   "metadata": {},
   "outputs": [],
   "source": [
    "#We want to replace the d_steamengine with 1 in year 1905, if the same value in year 1867 is 1 for each ID.\n",
    "#For i in unique ID's:\n",
    "for i in df['ID'].unique():\n",
    "    #If the value in year 1867 is 1:\n",
    "    if df.loc[(df['ID'] == i) & (df['year'] == 1867), 'd_steamengine'].iloc[0] == 1:\n",
    "        #Replace the value in year 1905 with 1.\n",
    "        df.loc[(df['ID'] == i) & (df['year'] == 1905), 'd_steamengine'] = 1"
   ]
  },
  {
   "cell_type": "code",
   "execution_count": 8,
   "metadata": {},
   "outputs": [],
   "source": [
    "#Save as a stata file.\n",
    "df.to_stata('Dataset_Edited_With_Loop.dta')"
   ]
  },
  {
   "cell_type": "code",
   "execution_count": 9,
   "metadata": {},
   "outputs": [],
   "source": [
    "#Use the correct ID's from the matrix.\n",
    "for i in range(0,len(conversion_matrix)):\n",
    "    df.loc[df[\"ID\"] == conversion_matrix.iloc[i,0], \"ID\"] = conversion_matrix.iloc[i,1]\n",
    "    #Groupby ID, summing only d_steamengine\n",
    "    df = df.groupby([\"ID\", \"year\"]).agg({\"d_steamengine\": \"sum\", \"ind_popshare_occ\": \"first\", \"agr_popshare_occ\": \"first\", \"trade_popshare_occ\": \"first\", \"tax_income_base_priv_pc\": \"first\", \"pop_log\": \"first\"}).reset_index()"
   ]
  },
  {
   "cell_type": "code",
   "execution_count": 10,
   "metadata": {},
   "outputs": [],
   "source": [
    "#Change 2 in d_steamengine to 1.\n",
    "df['d_steamengine'] = df['d_steamengine'].replace(2, 1)"
   ]
  },
  {
   "cell_type": "code",
   "execution_count": 11,
   "metadata": {},
   "outputs": [],
   "source": [
    "#Save as a stata file.\n",
    "df.to_stata('Dataset_Edited_With_Loop_v2.dta')"
   ]
  },
  {
   "cell_type": "code",
   "execution_count": 2,
   "metadata": {},
   "outputs": [
    {
     "name": "stdout",
     "output_type": "stream",
     "text": [
      "\n",
      "  ___  ____  ____  ____  ____ ®\n",
      " /__    /   ____/   /   ____/      17.0\n",
      "___/   /   /___/   /   /___/       SE—Standard Edition\n",
      "\n",
      " Statistics and Data Science       Copyright 1985-2021 StataCorp LLC\n",
      "                                   StataCorp\n",
      "                                   4905 Lakeway Drive\n",
      "                                   College Station, Texas 77845 USA\n",
      "                                   800-STATA-PC        https://www.stata.com\n",
      "                                   979-696-4600        stata@stata.com\n",
      "\n",
      "Stata license: 300-user network, expiring 30 Nov 2022\n",
      "Serial number: 401709314836\n",
      "  Licensed to: Timur Öztürk\n",
      "               University of Bayreuth\n",
      "\n",
      "Notes:\n",
      "      1. Unicode is supported; see help unicode_advice.\n",
      "      2. Maximum number of variables is set to 5,000; see help set_maxvar.\n"
     ]
    }
   ],
   "source": [
    "#Start Stata.\n",
    "import stata_setup\n",
    "stata_setup.config(\"C:/Program Files/Stata17\", \"se\")\n",
    "from pystata import stata, config\n",
    "config.init('se')"
   ]
  },
  {
   "cell_type": "code",
   "execution_count": 3,
   "metadata": {},
   "outputs": [],
   "source": [
    "%%stata \n",
    "use Dataset_Edited_With_Loop_v2.dta, clear\n"
   ]
  },
  {
   "cell_type": "code",
   "execution_count": 4,
   "metadata": {},
   "outputs": [
    {
     "name": "stdout",
     "output_type": "stream",
     "text": [
      "\n",
      "    Variable |        Obs        Mean    Std. dev.       Min        Max\n",
      "-------------+---------------------------------------------------------\n",
      "       index |     42,336     21167.5    12221.49          0      42335\n",
      "          ID |     42,336    27198.38    11026.36      10101      41627\n",
      "        year |     42,336    1870.083    27.97192       1821       1925\n",
      "d_steameng~e |     42,336    .0085743    .0986369          0          5\n",
      "ind_popsha~c |      5,291    9.420523     6.35755          0   44.03783\n",
      "-------------+---------------------------------------------------------\n",
      "agr_popsha~c |      3,527    34.18495    12.10751   .9994304   67.98337\n",
      "trade_pops~c |      5,291    1.518217    1.732759          0   44.80796\n",
      "tax_income~c |      1,763    323.2654      99.807   82.02615   995.6055\n",
      "     pop_log |     42,292    6.489994    .7460759          0   10.71945\n"
     ]
    }
   ],
   "source": [
    "%stata sum"
   ]
  },
  {
   "cell_type": "code",
   "execution_count": 6,
   "metadata": {},
   "outputs": [
    {
     "name": "stderr",
     "output_type": "stream",
     "text": [
      "Exception in thread Stata:\n",
      "Traceback (most recent call last):\n",
      "  File \"c:\\Users\\bt307300\\AppData\\Local\\Programs\\Python\\Python310\\lib\\threading.py\", line 1009, in _bootstrap_inner\n",
      "    self.run()\n",
      "  File \"C:\\Program Files/Stata17\\utilities\\pystata\\core\\stout.py\", line 169, in run\n",
      "    raise SystemError(output)\n",
      "SystemError: command browse is unrecognized\n",
      "r(199);\n",
      "\n"
     ]
    }
   ],
   "source": []
  }
 ],
 "metadata": {
  "kernelspec": {
   "display_name": "Python 3.10.4 64-bit",
   "language": "python",
   "name": "python3"
  },
  "language_info": {
   "codemirror_mode": {
    "name": "ipython",
    "version": 3
   },
   "file_extension": ".py",
   "mimetype": "text/x-python",
   "name": "python",
   "nbconvert_exporter": "python",
   "pygments_lexer": "ipython3",
   "version": "3.10.4"
  },
  "orig_nbformat": 4,
  "vscode": {
   "interpreter": {
    "hash": "5476554e56bec4e414584a71883d1ffe5b8e5031f5f48c49164141ce685ce57c"
   }
  }
 },
 "nbformat": 4,
 "nbformat_minor": 2
}
